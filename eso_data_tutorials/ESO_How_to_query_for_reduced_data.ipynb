{
 "cells": [
  {
   "cell_type": "markdown",
   "metadata": {},
   "source": [
    "<img align='left' alt='ESO Logo' src='http://archive.eso.org/i/esologo.png'> \n",
    "# &nbsp;How to query for reduced data\n",
    "<br>\n",
    "\n",
    "This section of the [\"ESO Science Archive Programmatic: HOWTOs\"](http://archive.eso.org/programmatic/HOWTO/) shows how to programmatically query the database table that exposes the metadata of the reduced data, using Python. \n",
    "\n",
    "_**Usage**: You can access this file either as a static HTML page [(download it here)](http://archive.eso.org/programmatic/HOWTO/jupyter/ESO_How_to_query_for_reduced_data.html), or as an interactive jupyter notebook [(download it here)](http://archive.eso.org/programmatic/HOWTO/jupyter/ESO_How_to_query_for_reduced_data.ipynb) which you can download and run on your machine [(instructions)](https://jupyter.org/install). To interact with the jupyter notebook (if you have download it): move up and down the various cells using the arrow keys, execute the code by pressing CTRL+ENTER; you can also modify the code and execute it at will._\n",
    "\n",
    "The table is called ivoa.ObsCore and it is fully compliant to the so-called **ObsCore** Virtual Observatory standard: [Observation Data Model Core Components and its Implementation in the Table Access Protocol, Version 1.1](http://ivoa.net/documents/ObsCore/index.html), IVOA Recommandation 09 May 2017, Louys et al.\n",
    "\n",
    "In the following, it will be shown how to query the ivoa.ObsCore table using the [IVOA Astronomical Data Query Language](http://www.ivoa.net/documents/latest/ADQL.html), Version 2, IVOA Recommandation 30 October 2008, Ortiz et al.\n",
    "\n",
    "You can interact with this jupyter notebook: move up and down the various cells using the arrow keys, execute the code by pressing CTRL+ENTER, modify the code and execute again. Or if you prefer you can download it, and play with it on your machine (link to be provided).\n",
    "\n",
    "**Table of Content**\n",
    "1. [**Query by dataset identifier**](#query_by_identifier)\n",
    "   1. [**Introduction to the ivoa.ObsCore columns**](#obscore_columns_introduction) \n",
    "1. [**Query by the data provider file name**](#query_by_origfile)\n",
    "1. [**Query by coordinates (aka spatial queries)**](#query_by_coordinates)\n",
    "   1. [**Cone search**](#cone_search)\n",
    "   1. [**Point in footprint**](#point_in_footprint): datasets containing a user-defined point <small>(e.g., **when looking for SN progenitors**)</small>\n",
    "   1. [**Region in footprint**](#region_in_footprint): datasets **entirely covering** a user-defined spatial region <small>(e.g., **for image cutout**)</small>\n",
    "   1. [**Search by polygon**](#polygon_search): datasets spatially intersecting a user-defined polygon <small>(e.g., **looking for counterparts of GW170817**)</small>\n",
    "1. [**Spatial joins**](#spatial_joins): datasets that spatially overlaps <small>(e.g., **find same sky region covered in different bands, for photometric studies**)\n",
    "1. [**Query by wavelengths**](#query_by_wavelengths)\n",
    "1. [**Units of the ivoa.ObsCore columns**](#obscore_columns)"
   ]
  },
  {
   "cell_type": "markdown",
   "metadata": {},
   "source": [
    "First of all, let's:\n",
    "* import what is necessary\n",
    "* define the ESO Tabular Access Protocol (TAP) endpoint to search through the reduced data\n",
    "* instantiate the TAP service"
   ]
  },
  {
   "cell_type": "code",
   "execution_count": 1,
   "metadata": {},
   "outputs": [],
   "source": [
    "import os \n",
    "import sys\n",
    "\n",
    "import numpy as np\n",
    "\n",
    "from astropy.visualization import astropy_mpl_style\n",
    "\n",
    "from astropy import table\n",
    "from astropy.coordinates import SkyCoord\n",
    "from astropy.units import Quantity\n",
    "\n",
    "from pyvo.dal import tap\n",
    "\n",
    "import matplotlib.pyplot as plt\n",
    "import pandas\n",
    "\n",
    "ESO_TAP_OBS = \"http://archive.eso.org/tap_obs\"\n",
    "\n",
    "tapobs = tap.TAPService(ESO_TAP_OBS)"
   ]
  },
  {
   "cell_type": "markdown",
   "metadata": {},
   "source": [
    "---\n",
    "## <a id='query_by_identifier'>1. Query by dataset identifier</a>"
   ]
  },
  {
   "cell_type": "markdown",
   "metadata": {},
   "source": [
    "Each dataset in the archive has been assigned a unique ESO identifier. For reduced products this is a 27-character name whose first 4 characters are 'ADP.' followed by a datetime string, up to the millisecond. Example: ADP.2013-12-10T16:12:17.697\n",
    "<small>(That timestamp is **not** the datetime when the observation was taken, take it just as a synthetic string without any associated meaning)</small>\n",
    "\n",
    "Completely equivalently, a Virtual Observatory identifier (colloquially called \"ivorn\") exists, and takes the form of constant string 'ivo://eso.org/ID?' prepended to the ESO identifier. Example: ivo://eso.org/ID?ADP.2013-12-10T16:12:17.697\n",
    "\n",
    "The look for a given reduced dataset, the query can be expressed using either the ESO or the VO identifier; the ESO identifier is stored in the ESO-specific non-standard column 'dp_id', while the ivorn is stored in the ObsCore standard column 'obs_publisher_did'. Let's execute the query by 'dp_id', while showing in the comment the 'obs_publisher_did' equivalent: "
   ]
  },
  {
   "cell_type": "code",
   "execution_count": 2,
   "metadata": {},
   "outputs": [
    {
     "name": "stdout",
     "output_type": "stream",
     "text": [
      "SELECT *\n",
      "FROM ivoa.ObsCore\n",
      "WHERE dp_id = 'ADP.2013-12-10T16:12:17.697'\n"
     ]
    }
   ],
   "source": [
    "dp_id = 'ADP.2013-12-10T16:12:17.697'\n",
    "\n",
    "query = \"\"\"SELECT *\n",
    "FROM ivoa.ObsCore\n",
    "WHERE dp_id = '%s'\"\"\" % (dp_id)\n",
    "\n",
    "# ivorn = 'ivo://eso.org/ID?' + dp_id\n",
    "# query = \"\"\"SELECT *\n",
    "# FROM ivoa.ObsCore\n",
    "# WHERE obs_publisher_did = '%s'\"\"\" % (ivorn)\n",
    "\n",
    "print(query)"
   ]
  },
  {
   "cell_type": "markdown",
   "metadata": {},
   "source": [
    "**Send the ADQL query to the ESO TAP service and get the resulting table**\n",
    "\n",
    "Beware: the next cell could return some warnings about wrong UCDs; that simply means that you have not yet updated to the latest version of astropy. Anyways, those warnings are not important, and you can continue disregarding them.\n",
    "\n",
    "Passing the query to the tapobs service and getting its results is easy, thanks to the pyvo module.\n",
    "The search returns the table of results (res), consisting of a single record given that we constrained the query by a unique identifier."
   ]
  },
  {
   "cell_type": "code",
   "execution_count": 3,
   "metadata": {},
   "outputs": [
    {
     "name": "stdout",
     "output_type": "stream",
     "text": [
      "<Table length=1>\n",
      "abmaglim access_estsize ... t_xel target_name\n",
      "  mag        kbyte      ...                  \n",
      "float64      int64      ... int64    object  \n",
      "-------- -------------- ... ----- -----------\n",
      "      --           1186 ...    --  J0001+0307\n"
     ]
    }
   ],
   "source": [
    "res = tapobs.search(query=query)\n",
    "\n",
    "print(res)"
   ]
  },
  {
   "cell_type": "markdown",
   "metadata": {},
   "source": [
    "### <a id='obscore_columns_introduction'>1.1 Introduction to the ivoa.ObsCore columns</a>\n",
    "It seems useful before continuing, to have a closer look at the previous result set, so to gain a feeling of the kind of information/columns that can be found in the ObsCore table.\n",
    "\n",
    "Given the 'SELECT *' in the query above, the result set contains all the ObsCore columns.\n",
    "\n",
    "The ESO ObsCore table contains 41 columns of the ObsCore standard, plus 9 ESO-specific columns; the ESO-specific are:\n",
    "* abmaglim (available only for images, catalogtiles, and cubes)\n",
    "* gal_lat\n",
    "* gal_lon\n",
    "* multi_ob\n",
    "* n_obs\n",
    "* obstech\n",
    "* p3orig\n",
    "* publication_date\n",
    "* snr (available only for spectra)\n",
    "\n",
    "The following shows all the returned columns (and their values for the specific dataset).\n",
    "You can use any of those columns to add constraints in your queries.\n",
    "\n",
    "To gather full information on each column (like units, description, UCD, etc), please refer to the section [The ivoa.ObsCore columns](#obscore_columns) at the bottom of this page."
   ]
  },
  {
   "cell_type": "code",
   "execution_count": 3,
   "metadata": {},
   "outputs": [
    {
     "ename": "NameError",
     "evalue": "name 'res' is not defined",
     "output_type": "error",
     "traceback": [
      "\u001b[0;31m---------------------------------------------------------------------------\u001b[0m",
      "\u001b[0;31mNameError\u001b[0m                                 Traceback (most recent call last)",
      "\u001b[0;32m<ipython-input-3-927627a72918>\u001b[0m in \u001b[0;36m<module>\u001b[0;34m\u001b[0m\n\u001b[0;32m----> 1\u001b[0;31m \u001b[0;32mfor\u001b[0m \u001b[0mcolname\u001b[0m \u001b[0;32min\u001b[0m \u001b[0mres\u001b[0m\u001b[0;34m.\u001b[0m\u001b[0mto_table\u001b[0m\u001b[0;34m(\u001b[0m\u001b[0;34m)\u001b[0m\u001b[0;34m.\u001b[0m\u001b[0mcolnames\u001b[0m\u001b[0;34m:\u001b[0m\u001b[0;34m\u001b[0m\u001b[0;34m\u001b[0m\u001b[0m\n\u001b[0m\u001b[1;32m      2\u001b[0m     \u001b[0mprint\u001b[0m\u001b[0;34m(\u001b[0m\u001b[0;34m\"{:20s} \\t = \\t {}\"\u001b[0m\u001b[0;34m.\u001b[0m\u001b[0mformat\u001b[0m\u001b[0;34m(\u001b[0m\u001b[0mcolname\u001b[0m\u001b[0;34m,\u001b[0m \u001b[0mres\u001b[0m\u001b[0;34m[\u001b[0m\u001b[0mcolname\u001b[0m\u001b[0;34m]\u001b[0m\u001b[0;34m[\u001b[0m\u001b[0;36m0\u001b[0m\u001b[0;34m]\u001b[0m\u001b[0;34m)\u001b[0m\u001b[0;34m)\u001b[0m\u001b[0;34m\u001b[0m\u001b[0;34m\u001b[0m\u001b[0m\n",
      "\u001b[0;31mNameError\u001b[0m: name 'res' is not defined"
     ]
    }
   ],
   "source": [
    "for colname in res.to_table().colnames:\n",
    "    print(\"{:20s} \\t = \\t {}\".format(colname, res[colname][0]))"
   ]
  },
  {
   "cell_type": "markdown",
   "metadata": {},
   "source": [
    "---\n",
    "## <a id='query_by_origfile'>2 Query by the data provider file name</a>"
   ]
  },
  {
   "cell_type": "markdown",
   "metadata": {},
   "source": [
    "In case you know the original file name defined by the data provider before ingestion into the ESO archive, you must use the 'obs_creator_did' column (which is also an ivorn), as shown here:"
   ]
  },
  {
   "cell_type": "code",
   "execution_count": 5,
   "metadata": {},
   "outputs": [
    {
     "name": "stdout",
     "output_type": "stream",
     "text": [
      "SELECT *\n",
      "FROM ivoa.ObsCore\n",
      "WHERE obs_creator_did = 'ivo://eso.org/origfile?UV_SFLX_981908_2013-10-31T02:09:09.322_BLU390d1_2x2_11.fits'\n"
     ]
    }
   ],
   "source": [
    "origfile = 'UV_SFLX_981908_2013-10-31T02:09:09.322_BLU390d1_2x2_11.fits'\n",
    "ivorn = 'ivo://eso.org/origfile?' + origfile\n",
    "\n",
    "query = \"\"\"SELECT *\n",
    "FROM ivoa.ObsCore\n",
    "WHERE obs_creator_did = '%s'\"\"\" % (ivorn)\n",
    "\n",
    "print(query)"
   ]
  },
  {
   "cell_type": "markdown",
   "metadata": {},
   "source": [
    "---\n",
    "## <a id='query_by_coordinates'>3. Query by coordinates (aka spatial queries)</a>"
   ]
  },
  {
   "cell_type": "markdown",
   "metadata": {},
   "source": [
    "You are interested in a positional/spatial query, when you want to find products around a certain position in the sky. There are multple ways one can pose such question; it all depends on the use case at hand and which data you are looking for.\n",
    "\n",
    "On one side, the data...\n",
    "\n",
    "The reduced data are spatially characterised by their footprint (standard ObsCore column: s_region).\n",
    "In the previous example, the footprint of the source table ADP.2017-09-14T08:39:35.649 is described by a polygon.\n",
    "The types of footprins in the ESO archive are:\n",
    "* a point (this is the case for spectra and visibilities)\n",
    "* a circle (this is the case for the majority of ALMA data)\n",
    "* a polygon (e.g. for tile images, catalog tiles, cubes)\n",
    "* a union of polygons (e.g. uncombined images of a multichip camera, and relative source tables) \n",
    "\n",
    "On the other side, your use case...\n",
    "\n",
    "You might want to apply different criteria, e.g.: \n",
    "* 3.A Give me any dataset closer than N arcsec to a certain point\n",
    "    * this is the typical **cone search**, where it does not matter if the central point is covered or not by the dataset, or how much of the dataset's footprint intersects the defined cone; datasets of all kinds, including the ones with a point-like footprint, can be discovered via this search criterion. <p>\n",
    "    \n",
    "* 3.B Give me any dataset covering a certain point,\n",
    "    * this is the so-called **point in footprint**, useful for example to find progenitors of supernovae in images or cubes. Notice that datasets with point-like footprints cannot be discovered via this criterion, as two points will never coincide.<p>\n",
    "    \n",
    "* 3.C Give me any dataset covering a user-defined region **in its entirety**\n",
    "    * this is the case is similar to 3.B, just that now it is a **region in footprint** and not just a point; for example, this is the case for an image cutout, when you want to be sure that the image contains the entire region of interest before cutting it out.\n",
    "\n",
    "* 3.D Give me any dataset intersecting a complex region, i.e. **a user-defined polygon**"
   ]
  },
  {
   "cell_type": "markdown",
   "metadata": {},
   "source": [
    "### <a id='cone_search'>3.A Cone search</a>"
   ]
  },
  {
   "cell_type": "markdown",
   "metadata": {},
   "source": [
    "Suppose you are looking for datasets closer than _2.5 arcmin_ from _NGC 4666_.\n",
    "\n",
    "Either you know the equatorial coordinates of your object, or you rely onto a name resolver like SESAME (CDS) to get them. In the end you have a circle defined by the 3 quantities; ra, dec, and radius, all expressed in degrees.\n",
    "\n",
    "The cone search constraint is defined by the **INTERSECTS operator**, which takes two footprints as input, and return true (1) if the two intersects in at least 1 point, false (0) if they don't.\n",
    "\n",
    "In a cone search query, one of the two footprints is the input circle, while the other is the _s\\_region_ column, which represents the footprint of any dataset."
   ]
  },
  {
   "cell_type": "code",
   "execution_count": 9,
   "metadata": {},
   "outputs": [
    {
     "name": "stdout",
     "output_type": "stream",
     "text": [
      "SESAME coordinates for HD48611: 99.4607 -70.9326 (truncated to millidegrees)\n",
      "\n",
      "SELECT *\n",
      "FROM ivoa.ObsCore\n",
      "WHERE intersects(s_region, circle('', 99.460716, -70.932613, 0.041667))=1\n",
      "\n"
     ]
    }
   ],
   "source": [
    "# Defining the position via SESAME name resolver, and the search radius\n",
    "target = \"HD48611\"\n",
    "\n",
    "pos = SkyCoord.from_name(target)\n",
    "# pos now contains the coordinates of NGC 4666\n",
    "print(\"SESAME coordinates for %s: %s (truncated to millidegrees)\\n\" % (target, pos.to_string()))\n",
    "\n",
    "sr = 2.5/60. # search radius of 2.5 arcmin, always expressed in degrees\n",
    "\n",
    "# Cone search: looking for footprints of reduced datasets intersecting a circle of 2.5' around NGC 4666\n",
    "query = \"\"\"SELECT *\n",
    "FROM ivoa.ObsCore\n",
    "WHERE intersects(s_region, circle('', %f, %f, %f))=1\n",
    "\"\"\" % (pos.ra.degree , pos.dec.degree, sr)\n",
    "\n",
    "print(query)"
   ]
  },
  {
   "cell_type": "code",
   "execution_count": 11,
   "metadata": {},
   "outputs": [
    {
     "name": "stdout",
     "output_type": "stream",
     "text": [
      "Num matching datasets: 71\n"
     ]
    }
   ],
   "source": [
    "res = tapobs.search(query=query, maxrec=1000)\n",
    "print(\"Num matching datasets: %d\" % (len(res)))\n",
    "results_table = res.to_table()"
   ]
  },
  {
   "cell_type": "code",
   "execution_count": 21,
   "metadata": {},
   "outputs": [
    {
     "data": {
      "text/plain": [
       "['ADP.2014-09-16T11:06:55.340',\n",
       " 'ADP.2014-09-17T11:23:15.513',\n",
       " 'ADP.2014-09-29T13:27:20.393',\n",
       " 'ADP.2019-10-22T15:31:20.304',\n",
       " 'ADP.2016-09-21T11:12:53.976',\n",
       " 'ADP.2019-10-22T15:31:20.298',\n",
       " 'ADP.2021-04-15T09:27:01.212',\n",
       " 'ADP.2014-09-29T13:27:05.220',\n",
       " 'ADP.2019-10-22T15:31:20.296',\n",
       " 'ADP.2019-11-05T14:19:26.480',\n",
       " 'ADP.2014-09-16T11:06:07.303',\n",
       " 'ADP.2014-10-01T10:19:49.137',\n",
       " 'ADP.2019-10-22T15:31:20.306',\n",
       " 'ADP.2019-11-05T14:19:26.473',\n",
       " 'ADP.2014-09-16T11:04:57.103',\n",
       " 'ADP.2019-10-22T15:31:20.302',\n",
       " 'ADP.2019-10-22T15:31:20.308',\n",
       " 'ADP.2019-11-05T14:19:26.472',\n",
       " 'ADP.2019-11-05T14:19:26.479',\n",
       " 'ADP.2021-04-15T09:08:03.631',\n",
       " 'ADP.2014-09-16T11:03:46.237',\n",
       " 'ADP.2014-09-16T11:06:49.453',\n",
       " 'ADP.2019-10-22T15:31:20.292',\n",
       " 'ADP.2019-10-22T15:31:20.312',\n",
       " 'ADP.2019-10-22T15:31:20.310',\n",
       " 'ADP.2019-11-05T14:19:26.474',\n",
       " 'ADP.2019-11-05T14:19:26.494',\n",
       " 'ADP.2021-04-19T12:20:51.003',\n",
       " 'ADP.2019-10-22T15:31:20.254',\n",
       " 'ADP.2019-11-05T14:19:26.471',\n",
       " 'ADP.2020-02-10T10:15:28.473',\n",
       " 'ADP.2021-04-19T11:26:43.600',\n",
       " 'ADP.2021-04-19T11:40:25.281',\n",
       " 'ADP.2021-04-19T11:59:55.751',\n",
       " 'ADP.2021-04-19T12:28:35.594',\n",
       " 'ADP.2019-10-22T15:31:20.300',\n",
       " 'ADP.2019-10-22T15:31:20.314',\n",
       " 'ADP.2021-04-15T09:00:13.108',\n",
       " 'ADP.2021-04-15T09:03:21.879',\n",
       " 'ADP.2021-04-19T11:31:59.074',\n",
       " 'ADP.2021-04-19T11:58:47.181',\n",
       " 'ADP.2014-09-16T11:08:08.660',\n",
       " 'ADP.2019-10-22T15:31:20.290',\n",
       " 'ADP.2021-04-15T09:05:13.028',\n",
       " 'ADP.2021-04-15T09:55:22.456',\n",
       " 'ADP.2014-09-17T11:24:04.307',\n",
       " 'ADP.2014-09-29T13:27:14.363',\n",
       " 'ADP.2019-10-22T15:31:20.294',\n",
       " 'ADP.2019-11-05T14:19:26.470',\n",
       " 'ADP.2021-04-15T09:00:13.183',\n",
       " 'ADP.2021-04-15T09:07:00.438',\n",
       " 'ADP.2021-04-19T11:20:37.691',\n",
       " 'ADP.2021-04-19T11:23:47.582',\n",
       " 'ADP.2021-04-19T11:26:43.483',\n",
       " 'ADP.2019-11-05T14:19:26.478',\n",
       " 'ADP.2021-04-19T11:39:41.969',\n",
       " 'ADP.2021-04-19T11:41:16.426',\n",
       " 'ADP.2019-11-05T14:19:26.475',\n",
       " 'ADP.2019-11-05T14:19:26.476',\n",
       " 'ADP.2019-11-05T14:19:26.477',\n",
       " 'ADP.2019-11-05T14:19:26.481',\n",
       " 'ADP.2019-11-05T14:19:26.482',\n",
       " 'ADP.2021-04-15T09:27:01.156',\n",
       " 'ADP.2021-04-19T11:57:38.739',\n",
       " 'ADP.2021-04-19T12:23:05.596',\n",
       " 'ADP.2021-04-15T09:05:12.980',\n",
       " 'ADP.2021-04-19T11:23:47.617',\n",
       " 'ADP.2020-01-27T13:19:19.452',\n",
       " 'ADP.2021-04-15T09:03:21.873',\n",
       " 'ADP.2021-04-15T09:05:12.986',\n",
       " 'ADP.2021-04-15T09:07:00.426']"
      ]
     },
     "execution_count": 21,
     "metadata": {},
     "output_type": "execute_result"
    }
   ],
   "source": [
    "results_table[results_table['instrument_name'] == 'HARPS']\n",
    "dp_id_list = list(results_table['dp_id'])\n",
    "dp_id_list"
   ]
  },
  {
   "cell_type": "code",
   "execution_count": 22,
   "metadata": {},
   "outputs": [
    {
     "name": "stdout",
     "output_type": "stream",
     "text": [
      "<class 'str'>\n",
      "<class 'str'>\n",
      "<class 'str'>\n",
      "<class 'str'>\n",
      "<class 'str'>\n",
      "<class 'str'>\n",
      "<class 'str'>\n",
      "<class 'str'>\n",
      "<class 'str'>\n",
      "<class 'str'>\n",
      "<class 'str'>\n",
      "<class 'str'>\n",
      "<class 'str'>\n",
      "<class 'str'>\n",
      "<class 'str'>\n",
      "<class 'str'>\n",
      "<class 'str'>\n",
      "<class 'str'>\n",
      "<class 'str'>\n",
      "<class 'str'>\n",
      "<class 'str'>\n",
      "<class 'str'>\n",
      "<class 'str'>\n",
      "<class 'str'>\n",
      "<class 'str'>\n",
      "<class 'str'>\n",
      "<class 'str'>\n",
      "<class 'str'>\n",
      "<class 'str'>\n",
      "<class 'str'>\n",
      "<class 'str'>\n",
      "<class 'str'>\n",
      "<class 'str'>\n",
      "<class 'str'>\n",
      "<class 'str'>\n",
      "<class 'str'>\n",
      "<class 'str'>\n",
      "<class 'str'>\n",
      "<class 'str'>\n",
      "<class 'str'>\n",
      "<class 'str'>\n",
      "<class 'str'>\n",
      "<class 'str'>\n",
      "<class 'str'>\n",
      "<class 'str'>\n",
      "<class 'str'>\n",
      "<class 'str'>\n",
      "<class 'str'>\n",
      "<class 'str'>\n",
      "<class 'str'>\n",
      "<class 'str'>\n",
      "<class 'str'>\n",
      "<class 'str'>\n",
      "<class 'str'>\n",
      "<class 'str'>\n",
      "<class 'str'>\n",
      "<class 'str'>\n",
      "<class 'str'>\n",
      "<class 'str'>\n",
      "<class 'str'>\n",
      "<class 'str'>\n",
      "<class 'str'>\n",
      "<class 'str'>\n",
      "<class 'str'>\n",
      "<class 'str'>\n",
      "<class 'str'>\n",
      "<class 'str'>\n",
      "<class 'str'>\n",
      "<class 'str'>\n",
      "<class 'str'>\n",
      "<class 'str'>\n"
     ]
    }
   ],
   "source": [
    "for dp_id in dp_id_list:\n",
    "    print(type(dp_id))"
   ]
  },
  {
   "cell_type": "code",
   "execution_count": 4,
   "metadata": {},
   "outputs": [
    {
     "data": {
      "text/plain": [
       "<AxesSubplot:>"
      ]
     },
     "execution_count": 4,
     "metadata": {},
     "output_type": "execute_result"
    },
    {
     "data": {
      "image/png": "[encoded data removed]",
      "text/plain": [
       "<Figure size 432x288 with 1 Axes>"
      ]
     },
     "metadata": {
      "needs_background": "light"
     },
     "output_type": "display_data"
    }
   ],
   "source": [
    "from collections import Counter\n",
    "dp_types = res['dataproduct_type']\n",
    "dp_types_counts = Counter(dp_types)\n",
    "df = pandas.DataFrame.from_dict(dp_types_counts, orient='index')\n",
    "df.plot(kind='bar', rot=45)"
   ]
  },
  {
   "cell_type": "markdown",
   "metadata": {},
   "source": [
    "## Exercise: try this out...\n",
    "<div style=\"background-color:lightblue; padding: 1em;\" title=\"Try yourself\"><b>Cone search: INTERSECTS or CONTAINS ?</b><p>\n",
    "If you were looking specifically for spectra, whose footprint is a point, you could have used the stricter CONTAINS operator instead, to ensure that only footprints entirely contained in the defined circle are returned.\n",
    "<p>Just remember, while INTERSECTS is commutative, the order of the CONTAINS operands is important and defined as: <pre>CONTAINS( contained, container )=1</pre>\n",
    "<p>You might want to repeat the cone search query after changing INTERSECTS with CONTAINS to see the difference. [Answer: images, and measurements derived from those images, no longer show up in the result table given their larger field of view (>2.5')]. </div>"
   ]
  },
  {
   "cell_type": "markdown",
   "metadata": {},
   "source": [
    "### <a id='point_in_footprint'>3.B Point in footprint</a>\n",
    "\n",
    "Suppose you are interested in finding extended<sup>(*)</sup> datasets that cover a certain point in the sky (e.g., datasets that could have imaged the progenitor of a supernova).\n",
    "\n",
    "<small>(*) \"Extended\" means that their footprint area is > 0.0, excluding from the result set spectra and visibilities whose footprint is a point in the sky.</small>\n",
    "\n",
    "How to find the datasets that include such point? You can use either the INTERSECTS or the CONTAINS operator, as for a point there is no difference. Here we use CONTAINS."
   ]
  },
  {
   "cell_type": "code",
   "execution_count": 9,
   "metadata": {},
   "outputs": [
    {
     "name": "stdout",
     "output_type": "stream",
     "text": [
      "SELECT t_min, abmaglim, dataproduct_type as type, dp_id, obs_release_date\n",
      "FROM ivoa.ObsCore\n",
      "WHERE CONTAINS(point('', 193.815, 0.099819), s_region)=1\n",
      "AND dataproduct_type in ('image', 'cube')\n",
      "ORDER BY t_min asc\n",
      "Num matching datasets: 27\n",
      "    t_min      abmaglim  type            dp_id              obs_release_date  \n",
      "      d          mag                                                          \n",
      "-------------- -------- ----- --------------------------- --------------------\n",
      "56402.18240388   21.536 image ADP.2017-09-14T08:39:36.119 2017-09-20T20:02:58Z\n",
      "56402.18240388   21.629 image ADP.2017-09-14T08:39:36.115 2017-09-20T20:02:58Z\n",
      "56402.18390705   21.374 image ADP.2017-09-14T08:39:36.106 2017-09-20T20:02:58Z\n",
      "56402.18538167   21.382 image ADP.2017-09-14T08:39:36.144 2017-09-20T20:02:58Z\n",
      "56402.19168523    21.99 image ADP.2017-09-14T08:39:36.134 2017-09-20T20:02:58Z\n",
      "56402.20940042   22.588 image ADP.2017-09-14T08:39:36.138 2017-09-20T20:02:58Z\n",
      "56409.00209078   20.933 image ADP.2017-09-14T08:39:36.128 2017-09-20T20:02:58Z\n",
      "56409.02510531   21.076 image ADP.2017-09-14T08:39:36.111 2017-09-20T20:02:58Z\n",
      "56409.03998759   20.646 image ADP.2017-09-14T08:39:36.123 2017-09-20T20:02:58Z\n",
      "56442.07312225   21.775 image ADP.2017-09-14T08:39:36.220 2017-09-20T20:02:58Z\n",
      "           ...      ...   ...                         ...                  ...\n",
      "56729.19236134   23.727 image ADP.2018-12-21T13:02:10.961 2019-02-20T07:31:37Z\n",
      " 57442.2919707   19.305 image ADP.2016-11-17T12:51:01.145 2016-12-08T14:57:55Z\n",
      " 57442.2940551   18.497 image ADP.2016-11-17T12:51:01.131 2016-12-08T14:57:55Z\n",
      " 57442.2966246    16.74 image ADP.2016-11-17T12:51:01.153 2016-12-08T14:57:55Z\n",
      "57454.22507371   24.252 image ADP.2018-12-21T12:56:23.757 2019-02-15T12:15:22Z\n",
      "57461.31462374   24.976 image ADP.2019-02-11T13:02:23.451 2019-02-21T02:55:31Z\n",
      "57510.22696164   25.053 image ADP.2018-12-21T13:00:30.618 2019-02-19T08:35:54Z\n",
      "57528.97059731   21.136 image ADP.2020-03-02T18:38:36.229 2020-03-09T13:40:55Z\n",
      "58615.03903633     22.8  cube ADP.2019-06-18T16:48:16.192 2020-05-12T02:01:02Z\n",
      "58884.23649998   22.653  cube ADP.2020-02-12T22:34:35.871 2021-02-05T06:16:18Z\n",
      "Length = 27 rows\n"
     ]
    }
   ],
   "source": [
    "# Looking for either images or cubes containing the location of SN2016x;\n",
    "\n",
    "query = \"\"\"SELECT t_min, abmaglim, dataproduct_type as type, dp_id, obs_release_date\n",
    "FROM ivoa.ObsCore\n",
    "WHERE CONTAINS(point('', 193.815, 0.099819), s_region)=1\n",
    "AND dataproduct_type in ('image', 'cube')\n",
    "ORDER BY t_min asc\"\"\"\n",
    "\n",
    "# The above query returns all there is, whether observed before or after the SN discovery (which happened on t_min=57408)\n",
    "# One could imit to only the data taken before the event, by adding the constraint:\n",
    "# AND t_min < 57408\n",
    "\n",
    "print(query)\n",
    "res = tapobs.search(query=query, maxrec=1000)\n",
    "print(\"Num matching datasets: %d\" % (len(res)))\n",
    "print(res.to_table())"
   ]
  },
  {
   "cell_type": "markdown",
   "metadata": {},
   "source": [
    "### <a id='region_in_footprint'>3.C Region in footprint</a>"
   ]
  },
  {
   "cell_type": "markdown",
   "metadata": {},
   "source": [
    "If you want to ensure that the matching datasets contain an entire region, you must use the CONTAINS operator. In the first operand you place the entire region you want to have covered, while the second operand is the s_region column. <table><tr><td valign=\"top\">The covered region could be a simple circle, or a more complex shape (e.g. a polygon). Here we show a circle around NGC253:</td><td valign=\"top\"> <img src=\"./ngc253_circle.png\" width=\"150\" height=\"150\"></td></tr></table>"
   ]
  },
  {
   "cell_type": "code",
   "execution_count": 10,
   "metadata": {},
   "outputs": [
    {
     "name": "stdout",
     "output_type": "stream",
     "text": [
      "SELECT t_min, s_fov, dataproduct_type as type, dp_id, obs_release_date\n",
      "FROM ivoa.ObsCore\n",
      "WHERE CONTAINS(CIRCLE('', 11.888002, -25.288220, 0.21), s_region)=1\n",
      "AND dataproduct_type in ('image', 'cube')\n",
      "ORDER BY t_min asc\n",
      "Num matching datasets: 7\n",
      "    t_min          s_fov     ...   obs_release_date  \n",
      "      d             deg      ...                     \n",
      "-------------- ------------- ... --------------------\n",
      "55864.21418374 1.15908954416 ... 2019-04-29T13:08:36Z\n",
      "55893.13608187 1.45520652527 ... 2015-06-18T11:00:50Z\n",
      "55897.15708812 1.45500126333 ... 2015-06-18T05:46:38Z\n",
      "55927.08420409 1.15896704055 ... 2019-04-29T18:06:01Z\n",
      " 56132.3041874 1.15909942583 ... 2019-05-02T17:40:17Z\n",
      "56147.27356555 1.15886452083 ... 2019-05-02T17:40:17Z\n",
      "56180.34451683 1.15887357333 ... 2019-05-02T18:00:17Z\n"
     ]
    }
   ],
   "source": [
    "# The provided polygon embraces the (optical) disk of the NGC 253 galaxy:\n",
    "# see the purple polygon in: https://tinyurl.com/wws5wgd\n",
    "\n",
    "query = \"\"\"SELECT t_min, s_fov, dataproduct_type as type, dp_id, obs_release_date\n",
    "FROM ivoa.ObsCore\n",
    "WHERE CONTAINS(CIRCLE('', 11.888002, -25.288220, 0.21), s_region)=1\n",
    "AND dataproduct_type in ('image', 'cube')\n",
    "ORDER BY t_min asc\"\"\"\n",
    "\n",
    "#CONTAINS(POLYGON('J2000', 11.69167, -25.42802, 11.70837, -25.39377, 11.82948, -25.28317, 11.95405, -25.1965, 12.04864, -25.15928, 12.05789, -25.19052, 11.95461, -25.28743, 11.84107, -25.37337, 11.75762, -25.41363), s_region)=1\n",
    "\n",
    "# The above query returns all there is, whether observed before or after the SN discovery (which happened on t_min=57408)\n",
    "# One could imit to only the data taken before the event, by adding the constraint:\n",
    "# AND t_min < 57408\n",
    "\n",
    "print(query)\n",
    "res = tapobs.search(query=query, maxrec=1000)\n",
    "print(\"Num matching datasets: %d\" % (len(res)))\n",
    "print(res.to_table())\n"
   ]
  },
  {
   "cell_type": "markdown",
   "metadata": {},
   "source": [
    "Here above you see the list of datasets large enough to entirely embrace the provided circle. "
   ]
  },
  {
   "cell_type": "markdown",
   "metadata": {},
   "source": [
    "### <a id='polygon_search'>3.D Search by polygon</a>\n",
    "You can search for all datasets intersecting a polygon. This is useful, for example, when looking for optical, infrared, or radio, counterparts of a gravitational wave (GW) event. \n",
    "GW spatial probability maps exist, e.g., see: [Ligo Skymap](https://lscsoft.docs.ligo.org/ligo.skymap/). Those maps can be converted into confidence contours at a certain probability level, resulting in counterclockwise polygons that can be used to search for ESO data potentially covering the GW event. \n",
    "\n",
    "<table><tr><td>The query example uses a polygon constructed as explained above for the GW170817 event.</td><td><img src=\"./GW170717_polygon.png\" width=\"100\"></td></tr></table>"
   ]
  },
  {
   "cell_type": "code",
   "execution_count": 11,
   "metadata": {},
   "outputs": [
    {
     "name": "stdout",
     "output_type": "stream",
     "text": [
      "SELECT t_min, snr, abmaglim, dataproduct_type as type, dp_id\n",
      "FROM ivoa.ObsCore\n",
      "WHERE INTERSECTS(s_region, POLYGON('J2000', 196.8311,-23.5212, 196.7432,-23.3586, 196.6553,-23.1962, 196.4795,-23.0339, 196.3916,-22.8719, 196.3037,-22.71, 196.2158,-22.5484, 196.1279,-22.3869, 196.04,-22.2257, 195.9521,-22.0646, 195.8643,-21.9037, 195.7764,-21.7429, 195.7764,-21.5824, 195.6885,-21.422, 195.6006,-21.2618, 195.5127,-21.1018, 195.4248,-20.942, 195.3369,-20.7823, 195.3369,-20.6228, 195.249,-20.4634, 195.1611,-20.3043, 195.1611,-20.1452, 195.0732,-19.9864, 194.9854,-19.8277, 194.8975,-19.6692, 194.8975,-19.5108, 194.8096,-19.3526, 194.7217,-19.1945, 194.6338,-19.0366, 194.6338,-18.8788, 194.5459,-18.7212, 194.458,-18.5637, 194.458,-18.4064, 194.3701,-18.2492, 194.458,-18.0922, 194.458,-17.9353, 194.6338,-18.0137, 194.8096,-18.1707, 194.9854,-18.3278, 195.0732,-18.4851, 195.1611,-18.6425, 195.249,-18.8, 195.3369,-18.9577, 195.4248,-19.1155, 195.5127,-19.2735, 195.6006,-19.4317, 195.6885,-19.59, 195.8643,-19.7484, 195.9521,-19.907, 196.1279,-20.0658, 196.2158,-20.2247, 196.3916,-20.3838, 196.4795,-20.5431, 196.5674,-20.7025, 196.6553,-20.8621, 196.7432,-21.0219, 196.8311,-21.1818, 196.9189,-21.3419, 196.9189,-21.5022, 197.0068,-21.6626, 197.0947,-21.8233, 197.1826,-21.9841, 197.2705,-22.1451, 197.3584,-22.3063, 197.4463,-22.4676, 197.5342,-22.6292, 197.6221,-22.7909, 197.71,-22.9529, 197.7979,-23.115, 197.7979,-23.2773, 197.8857,-23.4399, 197.9736,-23.6026, 198.0615,-23.7655, 198.1494,-23.9287, 198.2373,-24.092, 198.3252,-24.2556, 198.4131,-24.4193, 198.501,-24.5833, 198.501,-24.7475, 198.5889,-24.9119, 198.6768,-25.0765, 198.7646,-25.2414, 198.8525,-25.4064, 198.9404,-25.5717, 199.0283,-25.7373, 199.0283,-25.903, 199.1162,-26.069, 199.1162,-26.2352, 199.2041,-26.4017, 199.2041,-26.5684, 199.2041,-26.7353, 199.2041,-26.9025, 199.1162,-26.9025, 198.9404,-26.7353, 198.7646,-26.5684, 198.5889,-26.4017, 198.501,-26.2352, 198.4131,-26.069, 198.2373,-25.903, 198.1494,-25.7373, 198.0615,-25.5717, 197.9736,-25.4064, 197.8857,-25.2414, 197.7979,-25.0765, 197.71,-24.9119, 197.6221,-24.7475, 197.5342,-24.5833, 197.3584,-24.4193, 197.2705,-24.2556, 197.1826,-24.092, 197.0947,-23.9287, 197.0068,-23.7655, 196.9189,-23.6026))=1\n",
      "ORDER BY t_min asc\n",
      "Num matching datasets: 1592\n",
      "    t_min       snr  abmaglim     type                dp_id           \n",
      "      d                mag                                            \n",
      "-------------- ----- -------- ------------ ---------------------------\n",
      "51656.12594721  24.1       --     spectrum ADP.2017-10-23T09:04:29.938\n",
      "51656.12596296  24.6       --     spectrum ADP.2017-10-23T09:04:30.011\n",
      "51659.22752179  23.0       --     spectrum ADP.2017-10-23T09:14:08.520\n",
      "51659.22753731  22.7       --     spectrum ADP.2017-10-23T09:14:08.517\n",
      "52769.18223732  41.5       --     spectrum ADP.2017-10-25T22:14:54.872\n",
      "53070.29890813  79.4       --     spectrum ADP.2016-09-20T08:08:13.622\n",
      "53071.17154411  86.0       --     spectrum ADP.2016-09-20T08:08:12.820\n",
      "53216.04598238 103.1       --     spectrum ADP.2016-09-20T11:06:51.394\n",
      "53373.36714808 170.9       --     spectrum ADP.2016-09-21T07:05:31.370\n",
      "54514.36343016  62.6       --     spectrum ADP.2013-12-06T15:30:46.410\n",
      "           ...   ...      ...          ...                         ...\n",
      "58009.96273834    --   19.238 measurements ADP.2018-01-15T15:47:50.455\n",
      "58009.96273834    --   19.269 measurements ADP.2018-01-15T15:47:50.456\n",
      "58131.32050753    --    21.58        image ADP.2018-02-13T15:24:34.534\n",
      "58131.32050753    --   21.595        image ADP.2018-02-13T15:24:34.538\n",
      "58131.32050753    --   21.544 measurements ADP.2018-02-13T15:24:34.552\n",
      "58131.32050753    --    21.58 measurements ADP.2018-02-13T15:24:34.554\n",
      " 58188.3243987    --   21.624        image ADP.2018-04-16T12:29:43.375\n",
      " 58188.3243987    --   21.527 measurements ADP.2018-04-16T12:29:43.402\n",
      " 58188.3243987    --   21.628        image ADP.2018-04-16T12:29:43.358\n",
      " 58188.3243987    --   21.628 measurements ADP.2018-04-16T12:29:43.370\n",
      "Length = 1592 rows\n"
     ]
    }
   ],
   "source": [
    "query = \"\"\"SELECT t_min, snr, abmaglim, dataproduct_type as type, dp_id\n",
    "FROM ivoa.ObsCore\n",
    "WHERE INTERSECTS(s_region, POLYGON('J2000', 196.8311,-23.5212, 196.7432,-23.3586, 196.6553,-23.1962, 196.4795,-23.0339, 196.3916,-22.8719, 196.3037,-22.71, 196.2158,-22.5484, 196.1279,-22.3869, 196.04,-22.2257, 195.9521,-22.0646, 195.8643,-21.9037, 195.7764,-21.7429, 195.7764,-21.5824, 195.6885,-21.422, 195.6006,-21.2618, 195.5127,-21.1018, 195.4248,-20.942, 195.3369,-20.7823, 195.3369,-20.6228, 195.249,-20.4634, 195.1611,-20.3043, 195.1611,-20.1452, 195.0732,-19.9864, 194.9854,-19.8277, 194.8975,-19.6692, 194.8975,-19.5108, 194.8096,-19.3526, 194.7217,-19.1945, 194.6338,-19.0366, 194.6338,-18.8788, 194.5459,-18.7212, 194.458,-18.5637, 194.458,-18.4064, 194.3701,-18.2492, 194.458,-18.0922, 194.458,-17.9353, 194.6338,-18.0137, 194.8096,-18.1707, 194.9854,-18.3278, 195.0732,-18.4851, 195.1611,-18.6425, 195.249,-18.8, 195.3369,-18.9577, 195.4248,-19.1155, 195.5127,-19.2735, 195.6006,-19.4317, 195.6885,-19.59, 195.8643,-19.7484, 195.9521,-19.907, 196.1279,-20.0658, 196.2158,-20.2247, 196.3916,-20.3838, 196.4795,-20.5431, 196.5674,-20.7025, 196.6553,-20.8621, 196.7432,-21.0219, 196.8311,-21.1818, 196.9189,-21.3419, 196.9189,-21.5022, 197.0068,-21.6626, 197.0947,-21.8233, 197.1826,-21.9841, 197.2705,-22.1451, 197.3584,-22.3063, 197.4463,-22.4676, 197.5342,-22.6292, 197.6221,-22.7909, 197.71,-22.9529, 197.7979,-23.115, 197.7979,-23.2773, 197.8857,-23.4399, 197.9736,-23.6026, 198.0615,-23.7655, 198.1494,-23.9287, 198.2373,-24.092, 198.3252,-24.2556, 198.4131,-24.4193, 198.501,-24.5833, 198.501,-24.7475, 198.5889,-24.9119, 198.6768,-25.0765, 198.7646,-25.2414, 198.8525,-25.4064, 198.9404,-25.5717, 199.0283,-25.7373, 199.0283,-25.903, 199.1162,-26.069, 199.1162,-26.2352, 199.2041,-26.4017, 199.2041,-26.5684, 199.2041,-26.7353, 199.2041,-26.9025, 199.1162,-26.9025, 198.9404,-26.7353, 198.7646,-26.5684, 198.5889,-26.4017, 198.501,-26.2352, 198.4131,-26.069, 198.2373,-25.903, 198.1494,-25.7373, 198.0615,-25.5717, 197.9736,-25.4064, 197.8857,-25.2414, 197.7979,-25.0765, 197.71,-24.9119, 197.6221,-24.7475, 197.5342,-24.5833, 197.3584,-24.4193, 197.2705,-24.2556, 197.1826,-24.092, 197.0947,-23.9287, 197.0068,-23.7655, 196.9189,-23.6026))=1\n",
    "ORDER BY t_min asc\"\"\"\n",
    "\n",
    "print(query)\n",
    "\n",
    "res = tapobs.search(query=query, maxrec=2000)\n",
    "\n",
    "print(\"Num matching datasets: %d\" % (len(res)))\n",
    "print(res.to_table())"
   ]
  },
  {
   "cell_type": "markdown",
   "metadata": {},
   "source": [
    "---\n",
    "### <a id='spatial_joins'>4. Spatial joins</a>\n",
    "Are you interested in finding images in different bands of the same sky region, for photometrical studies?\n",
    "\n",
    "The following example shows how you can compose a spatial join, so to find:\n",
    "   * HAWKI images,\n",
    "   * within 10 degrees from the galactic plane,\n",
    "   * taken in the J and H filters,\n",
    "   * where the J and H images overlap,\n",
    "   * and ensuring that they overlap for at least 80% of the J band image area."
   ]
  },
  {
   "cell_type": "code",
   "execution_count": 12,
   "metadata": {},
   "outputs": [
    {
     "name": "stdout",
     "output_type": "stream",
     "text": [
      "\n",
      "Num matching datasets: 3224\n",
      "abmaglim access_estsize ... t_xel   target_name   \n",
      "  mag        kbyte      ...                       \n",
      "-------- -------------- ... ----- ----------------\n",
      "  22.076           3456 ...    --            BYF73\n",
      "  21.984           4752 ...    --            BYF73\n",
      "  22.059           3625 ...    --            BYF73\n",
      "   21.96           4852 ...    --            BYF73\n",
      "  21.999           3156 ...    --            BYF73\n",
      "  21.904           4262 ...    --            BYF73\n",
      "  22.046           3398 ...    --            BYF73\n",
      "   21.95           4518 ...    --            BYF73\n",
      "  22.133           3795 ...    --            BYF73\n",
      "  22.051           4968 ...    --            BYF73\n",
      "     ...            ... ...   ...              ...\n",
      "  26.322           1512 ...    --            RCW36\n",
      "  26.481           1056 ...    --            RCW36\n",
      "  26.531           1085 ...    --            RCW36\n",
      "  26.586           1062 ...    --            RCW36\n",
      "  26.272           1520 ...    --            RCW36\n",
      "  26.547           1140 ...    --            RCW36\n",
      "  27.016           3179 ...    -- RCW36_controlfld\n",
      "  27.026           3191 ...    -- RCW36_controlfld\n",
      "  26.757           1641 ...    --       NGC2244_F3\n",
      "  26.757           1653 ...    --       NGC2244_F3\n",
      "Length = 3224 rows\n"
     ]
    }
   ],
   "source": [
    "query = \"\"\"SELECT J.* FROM\n",
    "      (select * FROM ivoa.Obscore WHERE dataproduct_subtype ='srctbl' \n",
    "      AND obs_collection = 'HAWKI' \n",
    "      AND gal_lat < 10 AND gal_lat > -10 \n",
    "      AND em_min < 1.265E-6 AND em_max > 1.265E-6 ) J, \n",
    "\n",
    "      (select * FROM ivoa.Obscore WHERE dataproduct_subtype ='srctbl' \n",
    "      AND obs_collection = 'HAWKI' \n",
    "      AND gal_lat < 10 AND gal_lat > -10 \n",
    "      AND em_min < 1.66E-6 AND em_max > 1.66E-6 ) H \n",
    "\n",
    "WHERE INTERSECTS( J.s_region , H.s_region)=1 and \n",
    "ESO_INTERSECTION( J.s_region , H.s_region) > 0.8*AREA( J.s_region )\"\"\"\n",
    "\n",
    "# Let's get a maximum of 20000 images\n",
    "res = tapobs.search(query=query, maxrec=20000)\n",
    "print(\"\")\n",
    "print(\"Num matching datasets: %d\" % (len(res)))\n",
    "print(res.to_table())"
   ]
  },
  {
   "cell_type": "markdown",
   "metadata": {},
   "source": [
    "Notice the J.* in the SELECT part: that is to retrieve just only the information about the J images. You could then repeat the query for the H band. This is useful, for example, to visualise the results in a tool like Aladin, using different colours for the different queries, and hence for the different bands.\n",
    "\n",
    "Otherwise, you could simply get all of them at once, using SELECT * instead, or using a more selective statement, prepending the column name that you want from the J or H set of results, like in: SELECT J.dp_id, H.dp_id, etc."
   ]
  },
  {
   "cell_type": "markdown",
   "metadata": {},
   "source": [
    "---\n",
    "### <a id='query_by_wavelengths'>5. Query by wavelengths</a>\n",
    "\n",
    "Please notice that the IVOA ObsCore standard requires the wavelvengths to be stored un meters.\n",
    "\n",
    "You can always output them in different units rescaling them in the SELECT statement, as in the following query, but you need to use meters when setting a constraint on the em_min and em_max columns. And this even for data which use frequency on the spectral axis (e.g. radio data). That choice makes possible to standardise the query across all observatories. Please remember to use meters.\n",
    "\n"
   ]
  },
  {
   "cell_type": "code",
   "execution_count": 13,
   "metadata": {},
   "outputs": [
    {
     "name": "stdout",
     "output_type": "stream",
     "text": [
      "collection     type     subtype     min_wavel_nm    max_wavel_nm em_res_power\n",
      "---------- ------------ -------- ------------------ ------------ ------------\n",
      "092.A-0472        image          1981.9999999999998       2307.0          6.0\n",
      "     HAWKI measurements   srctbl             1181.0       1335.0          8.0\n",
      "     HAWKI        image pawprint             1181.0       1335.0          8.0\n"
     ]
    }
   ],
   "source": [
    "query=\"\"\"SELECT obs_collection as collection, dataproduct_type as type, \n",
    "dataproduct_subtype as subtype, em_min*1E9 min_wavel_nm, em_max*1E9 max_wavel_nm, em_res_power\n",
    "FROM ivoa.ObsCore\n",
    "WHERE target_name = 'a370'\n",
    "and em_res_power < 3000\"\"\"\n",
    "\n",
    "res = tapobs.search(query=query, maxrec=3)\n",
    "print(res.to_table())\n"
   ]
  },
  {
   "cell_type": "markdown",
   "metadata": {},
   "source": [
    "---\n",
    "### <a id='obscore_columns'>6. Units of the ivoa.ObsCore columns</a>\n",
    "\n",
    "The ivoa.ObsCore table contains many various scientifically intersting parameters describing the reduced data, from signal-to-noise ratio of the processed spectra, to the limiting magnitude for images and cubes, to the spectral resolution, the min/max wavelengths (for most data types), the (linear) spatial field of view, etc.\n",
    "\n",
    "Query constraints can be build on any of those parameters, using the corresponding column names; the values in the constraints must use the correct units.\n",
    "\n",
    "The following query can be used to find out the columns of the ObsCore table, along with their units, UCDs, descriptions, etc."
   ]
  },
  {
   "cell_type": "code",
   "execution_count": 14,
   "metadata": {},
   "outputs": [
    {
     "name": "stdout",
     "output_type": "stream",
     "text": [
      "column_name          \t unit\tUCD\n",
      "-------------------- \t ------\t---------------------------\n",
      "abmaglim             \t mag\tphot.mag;stat.max\n",
      "access_estsize       \t kbyte\tphys.size;meta.file\n",
      "access_format        \t \tmeta.code.mime\n",
      "access_url           \t \tmeta.ref.url\n",
      "bib_reference        \t \tmeta.bib.bibcode\n",
      "calib_level          \t \tmeta.code;obs.calib\n",
      "dataproduct_subtype  \t \tmeta.code.class\n",
      "dataproduct_type     \t \tmeta.code.class\n",
      "dp_id                \t \tmeta.id\n",
      "em_max               \t m\tem.wl;stat.max\n",
      "em_min               \t m\tem.wl;stat.min\n",
      "em_res_power         \t \tspect.resolution\n",
      "em_xel               \t \tmeta.number\n",
      "facility_name        \t \tmeta.id;instr.tel\n",
      "filter               \t \tmeta.id;instr.filter\n",
      "gal_lat              \t deg\tpos.galactic.latitude\n",
      "gal_lon              \t deg\tpos.galactic.longitude\n",
      "instrument_name      \t \tmeta.id;instr\n",
      "multi_ob             \t \tmeta.code.multip;obs\n",
      "n_obs                \t \tmeta.number;obs\n",
      "o_calib_status       \t \tmeta.code.qual\n",
      "o_ucd                \t \tmeta.ucd\n",
      "obs_collection       \t \tmeta.id\n",
      "obs_creator_did      \t \tmeta.id\n",
      "obs_creator_name     \t \tmeta.id\n",
      "obs_id               \t \tmeta.id\n",
      "obs_publisher_did    \t \tmeta.ref.ivoid\n",
      "obs_release_date     \t \ttime.release\n",
      "obs_title            \t \tmeta.title;obs\n",
      "obstech              \t \tinstr.setup\n",
      "p3orig               \t \tmeta.ref\n",
      "pol_states           \t \tmeta.code;phys.polarization\n",
      "pol_xel              \t \tmeta.number\n",
      "proposal_id          \t \tmeta.id;obs.proposal\n",
      "publication_date     \t \ttime.publiYear\n",
      "s_dec                \t deg\tpos.eq.dec\n",
      "s_fov                \t deg\tphys.angSize;instr.fov\n",
      "s_pixel_scale        \t arcsec\tphys.angSize;instr.pixel\n",
      "s_ra                 \t deg\tpos.eq.ra\n",
      "s_region             \t \tpos.outline;obs.field\n",
      "s_resolution         \t arcsec\tpos.angResolution\n",
      "s_xel1               \t \tmeta.number\n",
      "s_xel2               \t \tmeta.number\n",
      "snr                  \t \tstat.snr\n",
      "t_exptime            \t s\ttime.duration;obs.exposure\n",
      "t_max                \t d\ttime.end;obs.exposure\n",
      "t_min                \t d\ttime.start;obs.exposure\n",
      "t_resolution         \t s\ttime.resolution\n",
      "t_xel                \t \tmeta.number\n",
      "target_name          \t \tmeta.id;src\n"
     ]
    }
   ],
   "source": [
    "query=\"\"\"SELECT column_name, unit, ucd -- and others like description, etc.\n",
    "from TAP_SCHEMA.Columns\n",
    "where table_name='ivoa.ObsCore'\"\"\"\n",
    "\n",
    "res = tapobs.search(query=query)\n",
    "print(\"{:20s} \\t {}\\t{}\".format('column_name', 'unit', 'UCD'))\n",
    "print(\"{:20s} \\t {}\\t{}\".format('--------------------','------','---------------------------'))\n",
    "for row in res:\n",
    "    print(\"{:20s} \\t {}\\t{}\".format(row['column_name'].decode(), row['unit'].decode(), row['ucd'].decode()))"
   ]
  }
 ],
 "metadata": {
  "interpreter": {
   "hash": "d934f475111ca88a6c5bf2ade0d9e486ba9c9570b4d83a0464b278dd77820e5e"
  },
  "kernelspec": {
   "display_name": "Python 3.7.10 64-bit ('py37': conda)",
   "name": "python3"
  },
  "language_info": {
   "codemirror_mode": {
    "name": "ipython",
    "version": 3
   },
   "file_extension": ".py",
   "mimetype": "text/x-python",
   "name": "python",
   "nbconvert_exporter": "python",
   "pygments_lexer": "ipython3",
   "version": "3.7.10"
  }
 },
 "nbformat": 4,
 "nbformat_minor": 4
}
